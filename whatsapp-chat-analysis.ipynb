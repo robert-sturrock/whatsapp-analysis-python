{
 "cells": [
  {
   "cell_type": "code",
   "execution_count": 100,
   "metadata": {},
   "outputs": [],
   "source": [
    "import numpy as np\n",
    "import matplotlib as m\n",
    "import nltk as n\n",
    "import re as re\n",
    "import pandas as pd"
   ]
  },
  {
   "cell_type": "code",
   "execution_count": 95,
   "metadata": {},
   "outputs": [],
   "source": [
    "# Read the chat file\n",
    "chat = open(\"Desktop/chat.txt\")\n",
    "chat_text = chat.read()\n",
    "chat.close()\n",
    "\n"
   ]
  },
  {
   "cell_type": "code",
   "execution_count": 96,
   "metadata": {},
   "outputs": [],
   "source": [
    "# Clean the data of some undesirable parts \n",
    "\n",
    "chat_text = re_media.sub(\"[^a-zA-Z0-9.?!-<> ]\",chat_text)"
   ]
  },
  {
   "cell_type": "code",
   "execution_count": 97,
   "metadata": {},
   "outputs": [],
   "source": [
    "# Feed the file text into findall(); it returns a list of all the found strings\n",
    "strings = re.findall('(\\d+\\/\\d+\\/\\d+),\\s(\\d+:\\d+:\\d+)\\s(\\w+):(\\s\\w+\\s\\w+)*:(.*)', chat_text)\n"
   ]
  },
  {
   "cell_type": "code",
   "execution_count": 101,
   "metadata": {},
   "outputs": [],
   "source": [
    "# Turn the strings into a dataframe\n",
    "msgs = pd.DataFrame(strings,columns =['date','time','am_pm','sender','message'])"
   ]
  },
  {
   "cell_type": "code",
   "execution_count": 54,
   "metadata": {},
   "outputs": [],
   "source": [
    "# Create regular expression seperators\n",
    "media_pattern = r\"(\\<Media omitted\\>)\" # Because it serves no purpose\n",
    "re_media = re.compile(media_pattern, flags=re.M)\n",
    "\n",
    "date_time = r\"(\\d+\\/\\d+\\/\\d+)(,)(\\s)(\\d+:\\d+:\\d+)(\\s)(\\w+)(:)(\\s\\w+)*(:)\"\n",
    "re_date = re.compile(date_time, flags=re.M)\n"
   ]
  },
  {
   "cell_type": "code",
   "execution_count": 49,
   "metadata": {},
   "outputs": [],
   "source": [
    "# Substitute the regular expressions patterns for blank \"\"\n",
    "chat_text = re_media.sub(\"\",chat_text)\n",
    "chat_text = re_date.sub(\"\",chat_text)\n",
    "chat_text = re_test.sub(\"\", chat_text)"
   ]
  },
  {
   "cell_type": "code",
   "execution_count": null,
   "metadata": {},
   "outputs": [],
   "source": [
    "#Convert list to a dataframe and name columns\n",
    "msgs = pd.DataFrame(strings,columns =['DateTime','Sender','Message'])\n",
    "MsgTable.to_csv(‘path\\\\to\\\\file’, index=False, header=False)\n"
   ]
  },
  {
   "cell_type": "code",
   "execution_count": 50,
   "metadata": {},
   "outputs": [
    {
     "data": {
      "text/plain": [
       "\"7/22/16, 6:47:12 PM: \\u200e\\u202a+1\\xa0(215)\\xa0941‑2128\\u202c created group “We need a good name”\\n7/22/16, 6:47:12 PM: \\u200e\\u202a+1\\xa0(215)\\xa0941‑2128\\u202c added you\\n7/22/16, 6:47:20 PM: \\u202a+1\\xa0(215)\\xa0941‑2128\\u202c: Hi everyone 🙌🙌🙌\\n Lili/ - what was your gut reaction? Do you think we should go for it?\\n I didn't see it. I arrived at the pub 10 mins late bc I am a slow walker and by then lili and the landlord had gone\\n But the neighborhood is CUTE AF\\n and EXCELLENT COFFEE is nearby\\n It's super centrally located and yet not too noisy. V residential but still pubs around\\n Idk where the nearest grocery store is though\\n Hahaha i am glad the neighborhood is cute!! You and liam should go to the residents bbq on saturday and check the other residents out 😉\\n HA\\n7/22/16, 6:59:14 PM: \\u202a+1\\xa0(215)\\xa0941‑2128\\u202c: My friend loved it when she lived there !!!\\n Looks like there's a big tesco a 20 mins walk away and a big lidl 15 mins walk away and lots of small ones close by\\n Which is pretty similar to the boys' flat in brixton atm\\n Also, deposit is 6 months rent ie £15600? That's fine but is quite a bit more than is standard\\n THATS SO MUCH KONS\\n mons***\\n 5 weeks\\n I know! Definitely more than is normal!\\n Ooohhhh\\n 6 weeks\\n I thought it said 6 months in the fb chat. 6 weeks is standard!\\n7/22/16, 7:05:43 PM: \\u202a+1\\xa0(215)\\xa0941‑2128\\u202c: Oh I also thought u said 6months\\n7/22/16, 7:05:47 PM: \\u202a+1\\xa0(215)\\xa0941‑2128\\u202c: Which was cray\\n Lili def said six mo\\n Craycray indeed. 6 weeks is fine, 6 months makes you wonder what the landlord is going to do with all the 💰💰\\n7/22/16, 7:12:20 PM: \\u202a+1\\xa0(215)\\xa0941‑2128\\u202c: LIZZIE I WAS JUST ABOUT TO ADD U ON FB ☺\\n Great minds 😉😉\\n7/22/16, 7:26:50 PM: \\u202a+1\\xa0(215)\\xa0941‑2128\\u202c: Rob is now going to have like 3 whatsapp groups to keep up with , we just keep adding women to the Bros lives .\\n7/22/16, 7:27:07 PM: \\u202a+1\\xa0(215)\\xa0941‑2128\\u202c: Maybe they secretly have a two man convo where they talk about us\\n They do, it's called They Live Together\\n As if rob could be arsed to make a separate group bc #technology\\n7/22/16, 7:27:51 PM: \\u202a+1\\xa0(215)\\xa0941‑2128\\u202c: Pah\\n7/22/16, 7:28:11 PM: \\u202a+1\\xa0(215)\\xa0941‑2128\\u202c: I mean I fully intend to use this all the time when me Lizzie Liam and rob have a flat\\n I like how I'm included\\n Even tho I will be on the far side of the world\\n In Chicago\\n7/22/16, 7:28:44 PM: \\u202a+1\\xa0(215)\\xa0941‑2128\\u202c: Your my twin of course you're included\\n All alone\\n 😭😭😭😭\\n7/22/16, 7:29:02 PM: \\u202a+1\\xa0(215)\\xa0941‑2128\\u202c: LIKE ME NOW\\n I'm so excited for your haircut actually\\n7/22/16, 7:29:12 PM: \\u202a+1\\xa0(215)\\xa0941‑2128\\u202c: me too I may get it sooner\\n I WISH YOU COULD COME HERE NOWWWW\\n7/22/16, 7:29:20 PM: \\u202a+1\\xa0(215)\\xa0941‑2128\\u202c: Lol  we also revert to talking about hair\\n Twins\\n7/22/16, 7:29:31 PM: \\u202a+1\\xa0(215)\\xa0941‑2128\\u202c: I knowwwwwwwww\\n Your hair my hair\\n Lizzie's hair is a big topic of convo too\\n7/22/16, 7:29:55 PM: \\u202a+1\\xa0(215)\\xa0941‑2128\\u202c: Oooohhhhh I haven't heard this\\n Less chopping, more is it soft or not\\n7/22/16, 7:29:59 PM: \\u202a+1\\xa0(215)\\xa0941‑2128\\u202c: Is it super soft and lovely\\n It is very dependent on the water.... i am very pleased to report that Canadian water has been GREAT and currently we're at a 9/10 on the softness scale\\n7/22/16, 7:33:07 PM: \\u202a+1\\xa0(215)\\xa0941‑2128\\u202c: water does mess with hair.\\n More reason to move to Canada\\n London water isn't so great 🙁\\n Yeah! Number 1 reason\\n I find i have to wash it more in Londob\\n 1. Soft hair\\n 2. Justin Trudeau\\n 3. Health care\\n 4. Maple syrup\\n 5. Lili and Rob I guess\\n I would say 5. Weather 6. Lili and Rob\\n7/22/16, 7:35:28 PM: \\u202a+1\\xa0(215)\\xa0941‑2128\\u202c: I still vote we move ireland down south next to portugal and all move there\\n7/22/16, 7:35:36 PM: \\u202a+1\\xa0(215)\\xa0941‑2128\\u202c: but if we cant move ireland down south\\n That sounds logistically difficult\\n7/22/16, 7:35:47 PM: \\u202a+1\\xa0(215)\\xa0941‑2128\\u202c: then canada seems like a decent option\\n We should look into it\\n Let's all move to Canada\\n7/22/16, 7:36:00 PM: \\u202a+1\\xa0(215)\\xa0941‑2128\\u202c: 5th wheel for life :)\\n Rob is excited about Ottawa for reasons. Idk\\n Toronto ftw\\n7/22/16, 7:36:26 PM: \\u202a+1\\xa0(215)\\xa0941‑2128\\u202c: I still have not even been :( :(\\n WE WILL FIND YOU A HUNKY CANADIAN DEBS\\n THEY ARE EVERYWHERE\\n it is like the land of milk and honey\\n Except hunks and maple syrup\\n 😮 we should allll do a trip! Do you have time to go before you leave chicago??\\n YAY A TRIP\\n7/22/16, 7:37:30 PM: \\u202a+1\\xa0(215)\\xa0941‑2128\\u202c: I leave chicago end of August unfortunately . be back in dublin town 1st september\\n7/22/16, 7:37:33 PM: \\u202a+1\\xa0(215)\\xa0941‑2128\\u202c: COME TRIP TO IRELAND\\n Tbh at this point Lizzie practically lives there\\n I've never been to ireland!\\n IVE NEVER BEEN\\n7/22/16, 7:37:59 PM: \\u202a+1\\xa0(215)\\xa0941‑2128\\u202c: GIRLS ROAD TRIP = A TOUR OF THE BATHROOMS\\n liz can u get us a private jet\\n To spend a weekend in Dublin\\n7/22/16, 7:38:20 PM: \\u202a+1\\xa0(215)\\xa0941‑2128\\u202c: tbh flights are dirt cheap\\n Welllllll i would say yes but ryanair has kinda monopolised ireland 😭😭\\n But ryanair is cheap\\n So I'd be prepared to go over to the dark side\\n YAS\\n LETS DO IT\\n7/22/16, 7:39:18 PM: \\u202a+1\\xa0(215)\\xa0941‑2128\\u202c: THIS WOULD MAKE ME SO HAPPY.\\n7/22/16, 7:39:31 PM: \\u202a+1\\xa0(215)\\xa0941‑2128\\u202c: MAYBE NOT THE DAY IM HOME BUT LIKE SOME WEEKEND IN SEPTEMBER BEFORE ISABEL LEAVES\\n I have so many places to visit\\n Debs in Ireland sis in Vienna Rob's sis in Stockholm\\n7/22/16, 7:40:07 PM: \\u202a+1\\xa0(215)\\xa0941‑2128\\u202c: i mean if we take this flat 6th september ill be in london\\n OKAY\\n THATS EVEN BETTER\\n7/22/16, 7:40:41 PM: \\u202a+1\\xa0(215)\\xa0941‑2128\\u202c: but that doesnt preclude GOING to DUBLIN\\n7/22/16, 7:40:47 PM: \\u202a+1\\xa0(215)\\xa0941‑2128\\u202c: i can show u my hood\\n I would defs go!\\n 🙌🏽🙌🏽🙌🏽🙌🏽🙌🏽\\n7/22/16, 7:48:01 PM: \\u202a+1\\xa0(215)\\xa0941‑2128\\u202c: People are all so late . People have not arrived to buy things on time ever. It's like hello I have a life (ish) I don't just sit around and wait for u to show up two hours late without telling me\\n7/22/16, 7:48:11 PM: \\u202a+1\\xa0(215)\\xa0941‑2128\\u202c: GODDAMNIT MAD DEBS\\n7/22/16, 7:50:14 PM: \\u200eMessages to this group are now secured with end-to-end encryption.\\n7/22/16, 7:54:34 PM: \\u202a+1\\xa0(215)\\xa0941‑2128\\u202c: this is why i could never dated liam lizzie\\n7/22/16, 7:54:36 PM: \\u202a+1\\xa0(215)\\xa0941‑2128\\u202c: ;)\\n Omg\\n So many messages\\n The women have taken over\\n Hahahahaa debbie you're right\\n7/22/16, 7:55:46 PM: \\u202a+1\\xa0(215)\\xa0941‑2128\\u202c: arent you so glad i made this group rob?\\n Ughhhhhhhh\\n7/22/16, 7:55:53 PM: \\u202a+1\\xa0(215)\\xa0941‑2128\\u202c: your outnumbered now\\n It's lucky i always have a book in my bag and i generally run on a 10 min late schedule\\n Gonna look at the flat videos and stuff now\\n7/22/16, 7:56:10 PM: \\u202a+1\\xa0(215)\\xa0941‑2128\\u202c: nice i am a 10 min early sort of person\\n Haha so true debs\\n7/22/16, 7:56:25 PM: \\u202a+1\\xa0(215)\\xa0941‑2128\\u202c: basically teh worst person who makes everyone else feel bad even tho i am just annoyingly early\\n Debs is so concerned when she is 1 min late\\n7/22/16, 7:56:42 PM: \\u202a+1\\xa0(215)\\xa0941‑2128\\u202c: but its handy for saving tables\\n7/22/16, 7:56:47 PM: \\u202a+1\\xa0(215)\\xa0941‑2128\\u202c: /waiting in queues\\n7/22/16, 7:56:51 PM: \\u202a+1\\xa0(215)\\xa0941‑2128\\u202c: etc\\n (And don't tell Lili but i always know to anticipate him 15 mins after the agreed time so plan my arrival accordingly 😉)\\n I'm good at being on time for work\\n If there's one other person i try not to be late\\n But if it's a group i feel less pressure ha\\n HI ROB\\n7/22/16, 7:57:37 PM: \\u202a+1\\xa0(215)\\xa0941‑2128\\u202c: im so used to everyone being late now that i dont mind when other people are. im just early to reduce my own stress\\n7/22/16, 7:58:29 PM: \\u202a+1\\xa0(215)\\xa0941‑2128\\u202c: but when im sitting indoors when your buying stuff off me and im doing you a favour .... thats a different situation ....\\n7/22/16, 7:58:36 PM: \\u202a+1\\xa0(215)\\xa0941‑2128\\u202c: I COULD BE GETTING MORE TANNEDEDEDED\\n7/22/16, 7:59:24 PM: \\u202a+1\\xa0(215)\\xa0941‑2128\\u202c: another great thing about canadians : my favorite clothign brand is canadian based - wearyourlabel\\n7/22/16, 7:59:25 PM: \\u202a+1\\xa0(215)\\xa0941‑2128\\u202c: :)\\n Oooh i haven't heard of them!\\n HI ROB\\n7/22/16, 8:02:14 PM: \\u202a+1\\xa0(215)\\xa0941‑2128\\u202c: its basically a pro mental health , lets talk about mental illness clothing store\\n Question about the bedrooms\\n 1) no desks in any of them right?\\n That sounds coool!! I'll have to show it to my sis\\n Follow on: is there enough room?\\n For one\\n 2) is one room larger than the others to better accommodate Liz and Lili?\\n7/22/16, 8:05:47 PM: \\u202a+1\\xa0(215)\\xa0941‑2128\\u202c: so I think that one room has a desk (that looks the biggest) and i think liam said he thought it would be just about big enough\\n I'm going to be away from internet for a couple of hours but re: flat my other qs were.... what was the landlord like? (Would he be a pain?) Aaand did he seem happy for us to hang pics etc?\\n7/22/16, 8:06:09 PM: \\u202a+1\\xa0(215)\\xa0941‑2128\\u202c: (i wont need a desk in my room btw)\\n 3) did someone say something about tennis courts?\\n Would the other rooms fit desks?\\n Having one in my room is pretty important to my working style\\n7/22/16, 8:06:59 PM: \\u202a+1\\xa0(215)\\xa0941‑2128\\u202c: whats the kitchen like and the live ? (i know your video didnt take liam)\\n (I'm thinking specifically of my white desk)\\n Yes there are free tennis courts right next door it seems! Looks like they're council owned\\n That's sweet\\n I just played tennis for the first time in 13 years\\n And had a blast\\n Can Skype/chat more when I'm back in a couple of hours!\\n Kk\\n Yeah im partial to a game of tennis toooo\\n How long do we have to place a deposit?\\n7/22/16, 8:08:51 PM: \\u202a+1\\xa0(215)\\xa0941‑2128\\u202c: we haev started weekly tennis here also\\n But key thing for me is the desk thing\\n So that's what I want to know most\\n Also do we have a kitchen table/Dining room table?\\n That could seat 6+?\\n It looks like bedroom number 2 could squeeze my desk\\n So that would be good\\n7/22/16, 11:13:43 PM: \\u202a+1\\xa0(215)\\xa0941‑2128\\u202c: Just to put my excitement in all places re this\\n7/22/16, 11:13:49 PM: \\u202a+1\\xa0(215)\\xa0941‑2128\\u202c: 👍🙌👍\\n See the email I just forwarded from the landlord -- I need job titles and postcodes for Lizzie and Debbie!\\n Imma forward the £££ now, so all y'all owe me £195\\n No rush on repayment\\n Council tax isn't bad. I just looked it up - it's 1072.33 for the year\\n (Overall haha)\\n That's the same as me and rob I. The current flat\\n But split between 4 instead of 2\\n 🐎\\n7/23/16, 3:00:50 PM: \\u202a+1\\xa0(215)\\xa0941‑2128\\u202c: YAY\\n7/23/16, 3:00:57 PM: \\u202a+1\\xa0(215)\\xa0941‑2128\\u202c: THANKS L\""
      ]
     },
     "execution_count": 50,
     "metadata": {},
     "output_type": "execute_result"
    }
   ],
   "source": [
    "# See impact: \n",
    "chat_text[1:10000]"
   ]
  },
  {
   "cell_type": "code",
   "execution_count": 63,
   "metadata": {},
   "outputs": [
    {
     "name": "stdout",
     "output_type": "stream",
     "text": [
      "chat\t chat_text\t date_time\t m\t media_pattern\t n\t np\t re\t re_date\t \n",
      "re_media\t re_test\t test\t \n"
     ]
    },
    {
     "name": "stderr",
     "output_type": "stream",
     "text": [
      "UsageError: Line magic function `%what` not found.\n"
     ]
    }
   ],
   "source": [
    "%who\n"
   ]
  },
  {
   "cell_type": "code",
   "execution_count": 66,
   "metadata": {},
   "outputs": [
    {
     "data": {
      "text/plain": [
       "_io.TextIOWrapper"
      ]
     },
     "execution_count": 66,
     "metadata": {},
     "output_type": "execute_result"
    }
   ],
   "source": [
    "dir(chat)\n",
    "type(chat)"
   ]
  }
 ],
 "metadata": {
  "kernelspec": {
   "display_name": "Python 3",
   "language": "python",
   "name": "python3"
  },
  "language_info": {
   "codemirror_mode": {
    "name": "ipython",
    "version": 3
   },
   "file_extension": ".py",
   "mimetype": "text/x-python",
   "name": "python",
   "nbconvert_exporter": "python",
   "pygments_lexer": "ipython3",
   "version": "3.7.0"
  }
 },
 "nbformat": 4,
 "nbformat_minor": 2
}
